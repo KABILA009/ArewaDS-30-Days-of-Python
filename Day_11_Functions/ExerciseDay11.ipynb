{
 "cells": [
  {
   "attachments": {},
   "cell_type": "markdown",
   "metadata": {},
   "source": [
    "# Exercises: Level 1"
   ]
  },
  {
   "attachments": {},
   "cell_type": "markdown",
   "metadata": {},
   "source": [
    "```\n",
    "1. Declare a function add_two_numbers. It takes two parameters and it returns a sum.\n",
    "```"
   ]
  },
  {
   "cell_type": "code",
   "execution_count": 1,
   "metadata": {},
   "outputs": [
    {
     "name": "stdout",
     "output_type": "stream",
     "text": [
      "10\n"
     ]
    }
   ],
   "source": [
    "def add_two_numbers(num1, num2):\n",
    "    sum = num1 + num2\n",
    "    return sum\n",
    "\n",
    "print(add_two_numbers(4, 6))"
   ]
  },
  {
   "attachments": {},
   "cell_type": "markdown",
   "metadata": {},
   "source": [
    "```\n",
    "2. Area of a circle is calculated as follows: \n",
    "area = π x r x r. \n",
    "Write a function that calculates area_of_circle.\n",
    "```\n"
   ]
  },
  {
   "cell_type": "code",
   "execution_count": 2,
   "metadata": {},
   "outputs": [
    {
     "name": "stdout",
     "output_type": "stream",
     "text": [
      "12.56\n"
     ]
    }
   ],
   "source": [
    "def area_of_circle(r):\n",
    "    pie = 3.14\n",
    "    area = pie * r**2\n",
    "    \n",
    "    return area\n",
    "print(area_of_circle(2))"
   ]
  },
  {
   "attachments": {},
   "cell_type": "markdown",
   "metadata": {},
   "source": [
    "```\n",
    "3. Write a function called add_all_nums which takes \n",
    "arbitrary number of arguments and sums all the arguments. \n",
    "Check if all the list items are number types. \n",
    "If not do give a reasonable feedback.\n",
    "```"
   ]
  },
  {
   "cell_type": "code",
   "execution_count": 7,
   "metadata": {},
   "outputs": [
    {
     "name": "stdout",
     "output_type": "stream",
     "text": [
      "55\n"
     ]
    }
   ],
   "source": [
    "def add_all_nums(*numbers):\n",
    "    total = 0\n",
    "    for numb in numbers:\n",
    "        total += numb\n",
    "    return total\n",
    "print(add_all_nums(1,2,3,4,5,6,7,8,9,10))"
   ]
  },
  {
   "attachments": {},
   "cell_type": "markdown",
   "metadata": {},
   "source": [
    "```\n",
    "4. Temperature in °C can be converted to °F using this formula: \n",
    "    °F = (°C x 9/5) + 32. \n",
    "    Write a function which converts °C to °F, convert_celsius_to-fahrenheit.\n",
    "```"
   ]
  },
  {
   "cell_type": "code",
   "execution_count": 10,
   "metadata": {},
   "outputs": [
    {
     "name": "stdout",
     "output_type": "stream",
     "text": [
      "86.0\n"
     ]
    }
   ],
   "source": [
    "def convert_celsius_to_fahrenheit(celsius):\n",
    "#    celsius = 37.5\n",
    "    fahrenheit = (celsius * (9/5)) + 32\n",
    "    return fahrenheit\n",
    "print(convert_celsius_to_fahrenheit(30))"
   ]
  },
  {
   "attachments": {},
   "cell_type": "markdown",
   "metadata": {},
   "source": [
    "```\n",
    "5. Write a function called check-season, \n",
    "it takes a month parameter and returns the season: \n",
    "Autumn, Winter, Spring or Summer.\n",
    "```"
   ]
  },
  {
   "cell_type": "code",
   "execution_count": null,
   "metadata": {},
   "outputs": [],
   "source": []
  }
 ],
 "metadata": {
  "kernelspec": {
   "display_name": "Python 3",
   "language": "python",
   "name": "python3"
  },
  "language_info": {
   "codemirror_mode": {
    "name": "ipython",
    "version": 3
   },
   "file_extension": ".py",
   "mimetype": "text/x-python",
   "name": "python",
   "nbconvert_exporter": "python",
   "pygments_lexer": "ipython3",
   "version": "3.11.1"
  },
  "orig_nbformat": 4,
  "vscode": {
   "interpreter": {
    "hash": "6f03bf06d7fcb248854fe5fe584a09c53d956cb2c7de032b5f7aacb55e20ab0c"
   }
  }
 },
 "nbformat": 4,
 "nbformat_minor": 2
}
