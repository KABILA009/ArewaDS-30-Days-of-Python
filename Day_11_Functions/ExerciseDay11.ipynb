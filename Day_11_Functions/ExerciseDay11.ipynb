{
 "cells": [
  {
   "attachments": {},
   "cell_type": "markdown",
   "metadata": {},
   "source": [
    "# Exercises: Level 1"
   ]
  },
  {
   "attachments": {},
   "cell_type": "markdown",
   "metadata": {},
   "source": [
    "```\n",
    "1. Declare a function add_two_numbers. It takes two parameters and it returns a sum.\n",
    "```"
   ]
  },
  {
   "cell_type": "code",
   "execution_count": 1,
   "metadata": {},
   "outputs": [
    {
     "name": "stdout",
     "output_type": "stream",
     "text": [
      "10\n"
     ]
    }
   ],
   "source": [
    "def add_two_numbers(num1, num2):\n",
    "    sum = num1 + num2\n",
    "    return sum\n",
    "\n",
    "print(add_two_numbers(4, 6))"
   ]
  },
  {
   "attachments": {},
   "cell_type": "markdown",
   "metadata": {},
   "source": [
    "```\n",
    "2. Area of a circle is calculated as follows: \n",
    "area = π x r x r. \n",
    "Write a function that calculates area_of_circle.\n",
    "```\n"
   ]
  },
  {
   "cell_type": "code",
   "execution_count": 2,
   "metadata": {},
   "outputs": [
    {
     "name": "stdout",
     "output_type": "stream",
     "text": [
      "12.56\n"
     ]
    }
   ],
   "source": [
    "def area_of_circle(r):\n",
    "    pie = 3.14\n",
    "    area = pie * r**2\n",
    "    \n",
    "    return area\n",
    "print(area_of_circle(2))"
   ]
  },
  {
   "attachments": {},
   "cell_type": "markdown",
   "metadata": {},
   "source": [
    "```\n",
    "3. Write a function called add_all_nums which takes \n",
    "arbitrary number of arguments and sums all the arguments. \n",
    "Check if all the list items are number types. \n",
    "If not do give a reasonable feedback.\n",
    "```"
   ]
  },
  {
   "cell_type": "code",
   "execution_count": 7,
   "metadata": {},
   "outputs": [
    {
     "name": "stdout",
     "output_type": "stream",
     "text": [
      "55\n"
     ]
    }
   ],
   "source": [
    "def add_all_nums(*numbers):\n",
    "    total = 0\n",
    "    for numb in numbers:\n",
    "        total += numb\n",
    "    return total\n",
    "print(add_all_nums(1,2,3,4,5,6,7,8,9,10))"
   ]
  },
  {
   "attachments": {},
   "cell_type": "markdown",
   "metadata": {},
   "source": [
    "```\n",
    "4. Temperature in °C can be converted to °F using this formula: \n",
    "    °F = (°C x 9/5) + 32. \n",
    "    Write a function which converts °C to °F, convert_celsius_to-fahrenheit.\n",
    "```"
   ]
  },
  {
   "cell_type": "code",
   "execution_count": 10,
   "metadata": {},
   "outputs": [
    {
     "name": "stdout",
     "output_type": "stream",
     "text": [
      "86.0\n"
     ]
    }
   ],
   "source": [
    "def convert_celsius_to_fahrenheit(celsius):\n",
    "#    celsius = 37.5\n",
    "    fahrenheit = (celsius * (9/5)) + 32\n",
    "    return fahrenheit\n",
    "print(convert_celsius_to_fahrenheit(30))"
   ]
  },
  {
   "attachments": {},
   "cell_type": "markdown",
   "metadata": {},
   "source": [
    "```\n",
    "5. Write a function called check-season, \n",
    "it takes a month parameter and returns the season: \n",
    "Autumn, Winter, Spring or Summer.\n",
    "```"
   ]
  },
  {
   "cell_type": "code",
   "execution_count": 10,
   "metadata": {},
   "outputs": [
    {
     "name": "stdout",
     "output_type": "stream",
     "text": [
      "Autumn\n"
     ]
    }
   ],
   "source": [
    "def check_season(month):\n",
    "    month  = input(\"Input the month (e.g. January, February etc.): \")\n",
    "\n",
    "    \n",
    "    if month in ('Janaury', 'February', 'March'):\n",
    "        season = 'Winter'\n",
    "    \n",
    "    elif month in ('April', 'May', 'June'):\n",
    "        season = 'Spring'\n",
    "    \n",
    "    elif month in ('July', 'August', 'September'):\n",
    "        season = 'Summer'\n",
    "    \n",
    "    elif month in ('October', 'November', 'December'):\n",
    "        season = 'Autumn'\n",
    "        \n",
    "    return season\n",
    "\n",
    "print(check_season('season'))"
   ]
  },
  {
   "attachments": {},
   "cell_type": "markdown",
   "metadata": {},
   "source": [
    "```\n",
    "6. Write a function called calculate_slope \n",
    "which return the slope of a linear equation\n",
    "```"
   ]
  },
  {
   "cell_type": "code",
   "execution_count": 12,
   "metadata": {},
   "outputs": [
    {
     "name": "stdout",
     "output_type": "stream",
     "text": [
      "1.0\n"
     ]
    }
   ],
   "source": [
    "def calculate_slope(x1, y1, x2, y2):\n",
    "    alg = (y2-y1)/(x2-x1)\n",
    "    \n",
    "    return alg\n",
    "\n",
    "print (calculate_slope(4,6,8,10))"
   ]
  },
  {
   "attachments": {},
   "cell_type": "markdown",
   "metadata": {},
   "source": [
    "```\n",
    "7. Quadratic equation is calculated as follows: ax² + bx + c = 0. \n",
    "Write a function which calculates solution set of a quadratic equation,\n",
    "solve_quadratic_eqn.\n",
    "```"
   ]
  },
  {
   "cell_type": "code",
   "execution_count": 22,
   "metadata": {},
   "outputs": [
    {
     "name": "stdout",
     "output_type": "stream",
     "text": [
      "41.0\n",
      "-51.0\n"
     ]
    }
   ],
   "source": [
    "def solve_quadratic_eqn(a,b,c):\n",
    "        \n",
    "    # Calculating the discriminant\n",
    "    dist = (b**2) - (4 * a * c)\n",
    "    sqr_t =(abs(dist))*0.5\n",
    "    \n",
    "    # Conditions for discriminant\n",
    "    if dist > 0:\n",
    "        print((-b + sqr_t) / (2 * a))\n",
    "        print((-b - sqr_t) / (2 * a))\n",
    "        \n",
    "    elif dist == 0:\n",
    "        print(-b / (2 * a))\n",
    "        \n",
    "    else:\n",
    "        print(-b  / (2 * a), sqr_t)\n",
    "        print(-b  / (2 * a), sqr_t)\n",
    "    \n",
    "   # return dist  \n",
    "a = 1\n",
    "b = 10\n",
    "c = -21  \n",
    "\n",
    "if a == 0:\n",
    "    print('input correct quadratic equation')\n",
    "    \n",
    "else:\n",
    "    solve_quadratic_eqn(a, b, c)\n",
    "\n",
    "    "
   ]
  },
  {
   "attachments": {},
   "cell_type": "markdown",
   "metadata": {},
   "source": [
    "```\n",
    "8. Declare a function named print_list. \n",
    "    It takes a list as a parameter and \n",
    "    it prints out each element of the list.\n",
    "```"
   ]
  },
  {
   "cell_type": "code",
   "execution_count": 24,
   "metadata": {},
   "outputs": [
    {
     "name": "stdout",
     "output_type": "stream",
     "text": [
      "[1, 2, 3, 4, 5, 6, 7, 8, 9]\n"
     ]
    }
   ],
   "source": [
    "n = [[1, 2, 3], [4, 5, 6, 7, 8, 9]]\n",
    "# Add your function here\n",
    "        \n",
    "def print_list(lists):\n",
    "    results = []\n",
    "    for numbers in lists:\n",
    "        for items in numbers:\n",
    "            results.append(items)\n",
    "    return results\n",
    "\n",
    "print (print_list(n))\n",
    "\n",
    "    "
   ]
  },
  {
   "attachments": {},
   "cell_type": "markdown",
   "metadata": {},
   "source": [
    "```\n",
    "9. Declare a function named reverse_list. It takes an array as \n",
    "    a parameter and it returns the reverse of the array (use loops).\n",
    "\n",
    "    print(reverse_list([1, 2, 3, 4, 5]))\n",
    "    # [5, 4, 3, 2, 1]\n",
    "    print(reverse_list1([\"A\", \"B\", \"C\"]))\n",
    "    # [\"C\", \"B\", \"A\"]\n",
    "```"
   ]
  },
  {
   "cell_type": "code",
   "execution_count": 25,
   "metadata": {},
   "outputs": [
    {
     "name": "stdout",
     "output_type": "stream",
     "text": [
      "[5, 4, 3, 2, 1]\n"
     ]
    }
   ],
   "source": [
    "def reverse_list(arr = []):\n",
    "    new_arr = []\n",
    "    for i in arr[::-1]:\n",
    "        # print(i)\n",
    "        new_arr.append(i)\n",
    "    return new_arr\n",
    "\n",
    "\n",
    "arr_num = [1, 2, 3, 4, 5]\n",
    "\n",
    "print(reverse_list(arr_num))\n",
    "   \n",
    "    "
   ]
  },
  {
   "attachments": {},
   "cell_type": "markdown",
   "metadata": {},
   "source": [
    "```\n",
    "10. Declare a function named capitalize_list_items. \n",
    "    It takes a list as a parameter and it returns \n",
    "    a capitalized list of items \n",
    "```"
   ]
  },
  {
   "cell_type": "code",
   "execution_count": 34,
   "metadata": {},
   "outputs": [
    {
     "name": "stdout",
     "output_type": "stream",
     "text": [
      "['APPLE', 'BANANA', 'ORANGE']\n"
     ]
    }
   ],
   "source": [
    "list1 = [\"apple\", \"banana\", \"orange\"]\n",
    "\n",
    "def capitalize_list_items(n):\n",
    "    list1_upper = []\n",
    "    \n",
    "    for item in list1:\n",
    "        list1_upper.append(item.upper())\n",
    "        \n",
    "    return list1_upper\n",
    "\n",
    "print(capitalize_list_items('list1_upper'))"
   ]
  },
  {
   "attachments": {},
   "cell_type": "markdown",
   "metadata": {},
   "source": [
    "```\n",
    "11. Declare a function named add_item. It takes a list and an item parameters. \n",
    "    It returns a list with the item added at the end.\n",
    "    \n",
    "    food_staff = ['Potato', 'Tomato', 'Mango', 'Milk'];\n",
    "    print(add_item(food_staff, 'Meat'))     # ['Potato', 'Tomato', 'Mango', 'Milk','Meat'];\n",
    "    numbers = [2, 3, 7, 9];\n",
    "    print(add_item(numbers, 5))      [2, 3, 7, 9, 5] \n",
    "```"
   ]
  },
  {
   "cell_type": "code",
   "execution_count": 57,
   "metadata": {},
   "outputs": [
    {
     "name": "stdout",
     "output_type": "stream",
     "text": [
      "['Potato', 'Tomato', 'Mango', 'Milk', 'Apple']\n"
     ]
    }
   ],
   "source": [
    "food_stuff = ['Potato', 'Tomato', 'Mango', 'Milk']\n",
    "\n",
    "numbers = [2, 3, 7, 9]\n",
    "\n",
    "# food_stuff can be change to numbers and str to int\n",
    "\n",
    "def add_item(food_stuff, item):\n",
    "    item = str(input('Enter a fruit: '))\n",
    "\n",
    "    if item in food_stuff:\n",
    "        print('That fruit already exist in the list')\n",
    "    \n",
    "    else:\n",
    "        food_stuff.append(item) not in food_stuff\n",
    "        print(food_stuff)\n",
    "        \n",
    "\n",
    "\n",
    "add_item(food_stuff, 'item')"
   ]
  },
  {
   "attachments": {},
   "cell_type": "markdown",
   "metadata": {},
   "source": [
    "```\n",
    "12. Declare a function named remove_item. It takes a list and an item\n",
    "     parameters. It returns a list with the item removed from it.\n",
    "\n",
    "    food_staff = ['Potato', 'Tomato', 'Mango', 'Milk'];\n",
    "    print(remove_item(food_staff, 'Mango'))  # ['Potato', 'Tomato', 'Milk'];\n",
    "    numbers = [2, 3, 7, 9];\n",
    "    print(remove_item(numbers, 3))  # [2, 7, 9]\n",
    "```"
   ]
  },
  {
   "cell_type": "code",
   "execution_count": 49,
   "metadata": {},
   "outputs": [
    {
     "name": "stdout",
     "output_type": "stream",
     "text": [
      "['Potato', 'Tomato', 'Mango']\n"
     ]
    }
   ],
   "source": [
    "food_stuff = ['Potato', 'Tomato', 'Mango', 'Milk']\n",
    "\n",
    "numbers = [2, 3, 7, 9]\n",
    "\n",
    "# food_stuff can be change to numbers\n",
    "\n",
    "def remove_item(food_stuff, item):\n",
    "    lst = food_stuff.count(item)\n",
    "    for i in range(lst):\n",
    "        food_stuff.remove(item)\n",
    "        \n",
    "    return food_stuff\n",
    "\n",
    "print(remove_item(food_stuff, 'Milk'))"
   ]
  },
  {
   "attachments": {},
   "cell_type": "markdown",
   "metadata": {},
   "source": [
    "```\n",
    "13. Declare a function named sum_of_numbers. \n",
    "    It takes a number parameter and it adds all the numbers in that range.\n",
    "\n",
    "    print(sum_of_numbers(5))  # 15\n",
    "    print(sum_all_numbers(10)) # 55\n",
    "    print(sum_all_numbers(100)) # 5050\n",
    "```"
   ]
  },
  {
   "cell_type": "code",
   "execution_count": 67,
   "metadata": {},
   "outputs": [
    {
     "name": "stdout",
     "output_type": "stream",
     "text": [
      "Sum of digits in numbers from 1 to 100 is: 5050\n"
     ]
    }
   ],
   "source": [
    "\n",
    "def sum_of_numbers(n):\n",
    "    result = 0\n",
    "    \n",
    "    for x in range(1, n+1):\n",
    "        result += x\n",
    "        \n",
    "    return result\n",
    "\n",
    "n = int(input('Enter a number: '))\n",
    "print(\"Sum of digits in numbers from 1 to\", n, \"is:\", sum_of_numbers(n))"
   ]
  },
  {
   "attachments": {},
   "cell_type": "markdown",
   "metadata": {},
   "source": [
    "```\n",
    "14. Declare a function named sum_of_odds. \n",
    "    It takes a number parameter and it adds all \n",
    "    the odd numbers in that range.\n",
    "```"
   ]
  },
  {
   "cell_type": "code",
   "execution_count": 70,
   "metadata": {},
   "outputs": [
    {
     "name": "stdout",
     "output_type": "stream",
     "text": [
      "9\n"
     ]
    }
   ],
   "source": [
    "def sum_of_odds(n):\n",
    "    \n",
    "    cal = (n + 1) // 2\n",
    "    \n",
    "    result = cal * cal\n",
    "    \n",
    "    return result\n",
    "\n",
    "print(sum_of_odds(5))"
   ]
  },
  {
   "attachments": {},
   "cell_type": "markdown",
   "metadata": {},
   "source": [
    "```\n",
    "15. Declare a function named sum_of_even. \n",
    "    It takes a number parameter and it adds all \n",
    "    the even numbers in that - range\n",
    "```"
   ]
  },
  {
   "cell_type": "code",
   "execution_count": 80,
   "metadata": {},
   "outputs": [
    {
     "name": "stdout",
     "output_type": "stream",
     "text": [
      "56\n"
     ]
    }
   ],
   "source": [
    "\n",
    "\n",
    "def num(n):\n",
    "    tot = int((n * (n + 1)))\n",
    "    \n",
    "    return tot\n",
    "\n",
    "def sum_of_even(st, sp):\n",
    "    return (num(int(sp / 2)) - \n",
    "            num(int((st - 1) / 2)))\n",
    "    \n",
    "st = int(input('Enter a starting number: '))\n",
    "sp = int(input('Enter a stopping number: '))\n",
    "\n",
    "print(sum_of_even(st, sp))"
   ]
  },
  {
   "attachments": {},
   "cell_type": "markdown",
   "metadata": {},
   "source": [
    "# Exercises: Level 2"
   ]
  },
  {
   "attachments": {},
   "cell_type": "markdown",
   "metadata": {},
   "source": [
    "```\n",
    "1. Declare a function named evens_and_odds . \n",
    "    It takes a positive integer as parameter and \n",
    "    it counts number of evens and odds in the number.\n",
    "    \n",
    "    print(evens_and_odds(100))\n",
    "    # The number of odds are 50.\n",
    "    # The number of evens are 51.\n",
    "```"
   ]
  },
  {
   "cell_type": "code",
   "execution_count": 100,
   "metadata": {},
   "outputs": [
    {
     "name": "stdout",
     "output_type": "stream",
     "text": [
      "The number of odds are:  50\n",
      "The number of evens are:  51\n"
     ]
    }
   ],
   "source": [
    "\n",
    "even_count = 0  # even counter\n",
    "i = 0  # index, so that we can check if list[i] is even or odd\n",
    "odd_count = 0  # odd counter\n",
    " \n",
    " \n",
    "def evens_and_odds(lst):\n",
    "    # defining local counters as global variable\n",
    "    global even_count\n",
    "    global odd_count\n",
    "    global i\n",
    "    if lst[i] % 2 == 0:  # check if number is even\n",
    "        even_count += 1\n",
    "    else:  # if number is odd\n",
    "        odd_count += 1\n",
    "    if i in range(len(lst)-1):\n",
    "        i += 1  # increment i\n",
    "        evens_and_odds(lst)  # calling fonction recursively\n",
    "    else:\n",
    "        print(\"The number of odds are: \", odd_count)\n",
    "        print(\"The number of evens are: \", even_count)\n",
    " \n",
    " \n",
    "list1 = list(range(101))\n",
    "evens_and_odds(list1)"
   ]
  },
  {
   "attachments": {},
   "cell_type": "markdown",
   "metadata": {},
   "source": [
    "```\n",
    "2. Call your function factorial, \n",
    "it takes a whole number as a parameter and \n",
    "it return a factorial of the number\n",
    "```"
   ]
  },
  {
   "cell_type": "code",
   "execution_count": 102,
   "metadata": {},
   "outputs": [
    {
     "name": "stdout",
     "output_type": "stream",
     "text": [
      "24\n"
     ]
    }
   ],
   "source": [
    "def function_factorial(number):\n",
    "    if number == 0:\n",
    "        return 1\n",
    "    \n",
    "    else:\n",
    "        return number * function_factorial(number - 1)\n",
    "    \n",
    "number=int(input(\"Input a number to compute the factiorial : \"))\n",
    "print(function_factorial(number))"
   ]
  },
  {
   "attachments": {},
   "cell_type": "markdown",
   "metadata": {},
   "source": [
    "```\n",
    "3. Call your function is_empty, \n",
    "it takes a parameter and it checks if it is empty or not\n",
    "```"
   ]
  },
  {
   "cell_type": "code",
   "execution_count": 108,
   "metadata": {},
   "outputs": [
    {
     "name": "stdout",
     "output_type": "stream",
     "text": [
      "Empty list\n",
      "<function is_empty at 0x000000FD8EAAEF20>\n"
     ]
    }
   ],
   "source": [
    "def is_empty( n = []):\n",
    "    \n",
    "    if lst == []:\n",
    "        print('Empty list')\n",
    "\n",
    "    else:\n",
    "        print('List is not empty\\n',lst)\n",
    "        \n",
    "    return is_empty\n",
    "\n",
    "lst = []\n",
    "\n",
    "print(is_empty(lst))"
   ]
  },
  {
   "attachments": {},
   "cell_type": "markdown",
   "metadata": {},
   "source": [
    "```\n",
    "4. Write different functions which take lists. \n",
    "    They should calculate_mean, calculate_median, \n",
    "    calculate_mode, calculate_range, calculate_variance, \n",
    "    calculate_std (standard deviation)\n",
    "```"
   ]
  },
  {
   "cell_type": "code",
   "execution_count": null,
   "metadata": {},
   "outputs": [],
   "source": [
    "\n",
    "    \n",
    "    \n",
    "    \n",
    "    \n",
    "def calculate_median():\n",
    "    \n",
    "    \n",
    "    \n",
    "    \n",
    "def calculate_mode():\n",
    "    \n",
    "    \n",
    "    \n",
    "    \n",
    "def calculate_range():\n",
    "    \n",
    "    \n",
    "    \n",
    "    \n",
    "    \n",
    " \n",
    "    \n",
    "    \n",
    "    \n",
    "\n"
   ]
  },
  {
   "cell_type": "code",
   "execution_count": 117,
   "metadata": {},
   "outputs": [
    {
     "name": "stdout",
     "output_type": "stream",
     "text": [
      "13.666666666666666\n"
     ]
    }
   ],
   "source": [
    "data = [7,5,4,9,12,45]\n",
    "\n",
    "def calculate_mean(data):\n",
    "  n = len(data)\n",
    "  calculate_mean = sum(data) / n\n",
    "  return calculate_mean\n",
    "\n",
    "\n",
    "def calculate_variance(data):\n",
    "   \n",
    "  n = len(data)\n",
    "   \n",
    "  mean = sum(data) / n\n",
    "   \n",
    "  calculate_variance = [(x - mean) ** 2 for x in data]\n",
    "    \n",
    "  variance = sum(calculate_variance) / n\n",
    "  return calculate_variance\n",
    "\n",
    "\n",
    "def calculate_std(data):\n",
    "\n",
    "  var = variance(data)\n",
    "  std_dev = (var)*0.5\n",
    "  return std_dev\n",
    "\n",
    "print(calculate_mean(data))"
   ]
  }
 ],
 "metadata": {
  "kernelspec": {
   "display_name": "Python 3",
   "language": "python",
   "name": "python3"
  },
  "language_info": {
   "codemirror_mode": {
    "name": "ipython",
    "version": 3
   },
   "file_extension": ".py",
   "mimetype": "text/x-python",
   "name": "python",
   "nbconvert_exporter": "python",
   "pygments_lexer": "ipython3",
   "version": "3.11.1"
  },
  "orig_nbformat": 4,
  "vscode": {
   "interpreter": {
    "hash": "6f03bf06d7fcb248854fe5fe584a09c53d956cb2c7de032b5f7aacb55e20ab0c"
   }
  }
 },
 "nbformat": 4,
 "nbformat_minor": 2
}
